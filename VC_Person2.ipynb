{
 "cells": [
  {
   "cell_type": "code",
   "execution_count": 1,
   "metadata": {},
   "outputs": [
    {
     "name": "stderr",
     "output_type": "stream",
     "text": [
      "<ipython-input-1-9592d50e70dc>:17: DeprecationWarning: The binary mode of fromstring is deprecated, as it behaves surprisingly on unicode inputs. Use frombuffer instead\n",
      "  npdata = np.fromstring(data, np.uint8)  #converting to numpy array\n"
     ]
    }
   ],
   "source": [
    "import cv2\n",
    "import socket as sk\n",
    "import numpy as np\n",
    "s = sk.socket(sk.AF_INET, sk.SOCK_STREAM)\n",
    "cap = cv2.VideoCapture('http://192.168.0.102:8080/video') #accessing mobile cam using ip webcam app\n",
    "s.connect((sk.gethostbyname(sk.gethostname()),5000)) #establishing the connection\n",
    "s.settimeout(5)\n",
    "\n",
    "try:\n",
    "      while True: \n",
    "        ret, photo = cap.read()\n",
    "        frame = cv2.flip(photo,1) #flipping\n",
    "        frame_new = cv2.resize(frame,(540,430))  #resizing\n",
    "        encdata = cv2.imencode(\".jpg\",frame_new)[1].tobytes()  #encoding\n",
    "        s.sendall(encdata)  #sending data\n",
    "        data = s.recv(90456)  #receiving connection\n",
    "        npdata = np.fromstring(data, np.uint8)  #converting to numpy array\n",
    "        decdata = cv2.imdecode(npdata, cv2.IMREAD_COLOR)  #decoding\n",
    "        cropimg = cv2.resize(frame,(200,150),3)  #resizing\n",
    "        if type(decdata) is type(None):\n",
    "            count = count + 1\n",
    "        else:\n",
    "            decdata[:150,:200] = cropimg\n",
    "            cv2.imshow('Person1',decdata)  #display\n",
    "            count = 0\n",
    "            if cv2.waitKey(1) == 13:  #exiting with enter\n",
    "                cv2.destroyAllWindows()\n",
    "                cap.release()\n",
    "                s.close()\n",
    "                break\n",
    "\n",
    "except:\n",
    "    cv2.destroyAllWindows()\n",
    "    cap.release()\n",
    "    s.close()\n",
    "    print(\"connection closed by server\")\n",
    "    "
   ]
  },
  {
   "cell_type": "code",
   "execution_count": null,
   "metadata": {},
   "outputs": [],
   "source": []
  }
 ],
 "metadata": {
  "kernelspec": {
   "display_name": "Python 3",
   "language": "python",
   "name": "python3"
  },
  "language_info": {
   "codemirror_mode": {
    "name": "ipython",
    "version": 3
   },
   "file_extension": ".py",
   "mimetype": "text/x-python",
   "name": "python",
   "nbconvert_exporter": "python",
   "pygments_lexer": "ipython3",
   "version": "3.8.5"
  }
 },
 "nbformat": 4,
 "nbformat_minor": 4
}
