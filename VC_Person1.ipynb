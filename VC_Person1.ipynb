{
 "cells": [
  {
   "cell_type": "code",
   "execution_count": 1,
   "metadata": {},
   "outputs": [
    {
     "name": "stdout",
     "output_type": "stream",
     "text": [
      "<socket.socket fd=2688, family=AddressFamily.AF_INET, type=SocketKind.SOCK_STREAM, proto=0, laddr=('172.28.176.1', 5000), raddr=('172.28.176.1', 57668)>\n"
     ]
    },
    {
     "name": "stderr",
     "output_type": "stream",
     "text": [
      "<ipython-input-1-407d8b58a37c>:14: DeprecationWarning: The binary mode of fromstring is deprecated, as it behaves surprisingly on unicode inputs. Use frombuffer instead\n",
      "  npdata = np.fromstring(data, np.uint8)  #converting to numpy array\n"
     ]
    },
    {
     "name": "stdout",
     "output_type": "stream",
     "text": [
      "connection closed by client\n"
     ]
    }
   ],
   "source": [
    "import cv2\n",
    "import socket as sk\n",
    "import numpy as np\n",
    "cap = cv2.VideoCapture(0) #capturing laptop cam\n",
    "s = sk.socket(sk.AF_INET,sk.SOCK_STREAM) #creating a socket\n",
    "s.bind((sk.gethostbyname(sk.gethostname()),5000)) #binding\n",
    "s.listen(10)  #listening\n",
    "conn, addr = s.accept()  #accepting the connection\n",
    "print(conn) \n",
    "\n",
    "try:\n",
    "      while True:\n",
    "        data = conn.recv(90456)  #receiving connection\n",
    "        npdata = np.fromstring(data, np.uint8)  #converting to numpy array\n",
    "        decdata = cv2.imdecode(npdata, cv2.IMREAD_COLOR)  #decoding\n",
    "        ret, photo = cap.read()\n",
    "        frame = cv2.flip(photo,1) #flipping\n",
    "        cropimg = cv2.resize(frame,(200,150),3) #resizing\n",
    "        framesend = cv2.imencode('.jpg', frame)[1].tobytes()  \n",
    "        conn.sendall(framesend)  #sending data\n",
    "        if type(decdata) is type(None):\n",
    "            pass\n",
    "        else:\n",
    "            decdata[:150,:200] = cropimg\n",
    "            cv2.imshow('Person2',decdata) #display\n",
    "            if cv2.waitKey(1) == 13:   #exiting with enter\n",
    "                cv2.destroyAllWindows()\n",
    "                cap.release()\n",
    "                s.close()\n",
    "                break\n",
    "            \n",
    "except:\n",
    "    cv2.destroyAllWindows()\n",
    "    cap.release()\n",
    "    s.close()\n",
    "    print(\"connection closed by client\")\n",
    "    \n"
   ]
  },
  {
   "cell_type": "code",
   "execution_count": null,
   "metadata": {},
   "outputs": [],
   "source": []
  }
 ],
 "metadata": {
  "kernelspec": {
   "display_name": "Python 3",
   "language": "python",
   "name": "python3"
  },
  "language_info": {
   "codemirror_mode": {
    "name": "ipython",
    "version": 3
   },
   "file_extension": ".py",
   "mimetype": "text/x-python",
   "name": "python",
   "nbconvert_exporter": "python",
   "pygments_lexer": "ipython3",
   "version": "3.8.5"
  }
 },
 "nbformat": 4,
 "nbformat_minor": 4
}
